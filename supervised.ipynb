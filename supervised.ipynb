{
 "cells": [
  {
   "cell_type": "code",
   "execution_count": 88,
   "id": "445b19e0",
   "metadata": {},
   "outputs": [],
   "source": [
    "import matplotlib.pyplot as plt\n",
    "import numpy as np\n",
    "import random\n",
    "import csv\n",
    "import os\n",
    "from scipy.spatial.distance import cdist\n",
    "import pandas as pd\n",
    "from ucimlrepo import fetch_ucirepo\n",
    "from sklearn.preprocessing import LabelEncoder\n",
    "from sklearn.model_selection import train_test_split\n",
    "from sklearn.neighbors import KNeighborsClassifier\n",
    "from sklearn.metrics import accuracy_score, f1_score, precision_score, recall_score\n",
    "import seaborn as sns\n",
    "from collections import Counter\n",
    "from ucimlrepo import fetch_ucirepo\n",
    "from sklearn.model_selection import train_test_split\n",
    "from sklearn.preprocessing import LabelEncoder\n",
    "import numpy as np\n",
    "from collections import Counter\n",
    "from sklearn.metrics import accuracy_score\n",
    "import matplotlib.pyplot as plt\n"
   ]
  },
  {
   "cell_type": "code",
   "execution_count": 89,
   "id": "d93aaa2c",
   "metadata": {},
   "outputs": [],
   "source": [
    "input_path = 'C:/Users/alexm/OneDrive/Ambiente de Trabalho/ESTUDO/4MASTER/2ºano/IAA/data/iris.data'"
   ]
  },
  {
   "cell_type": "markdown",
   "id": "e6295a36",
   "metadata": {},
   "source": [
    "# Exercío 2"
   ]
  },
  {
   "cell_type": "markdown",
   "id": "4c15177d",
   "metadata": {},
   "source": [
    "### Análise da Data "
   ]
  },
  {
   "cell_type": "code",
   "execution_count": 90,
   "id": "af6763ac",
   "metadata": {},
   "outputs": [
    {
     "name": "stdout",
     "output_type": "stream",
     "text": [
      "{'uci_id': 53, 'name': 'Iris', 'repository_url': 'https://archive.ics.uci.edu/dataset/53/iris', 'data_url': 'https://archive.ics.uci.edu/static/public/53/data.csv', 'abstract': 'A small classic dataset from Fisher, 1936. One of the earliest known datasets used for evaluating classification methods.\\n', 'area': 'Biology', 'tasks': ['Classification'], 'characteristics': ['Tabular'], 'num_instances': 150, 'num_features': 4, 'feature_types': ['Real'], 'demographics': [], 'target_col': ['class'], 'index_col': None, 'has_missing_values': 'no', 'missing_values_symbol': None, 'year_of_dataset_creation': 1936, 'last_updated': 'Tue Sep 12 2023', 'dataset_doi': '10.24432/C56C76', 'creators': ['R. A. Fisher'], 'intro_paper': {'ID': 191, 'type': 'NATIVE', 'title': 'The Iris data set: In search of the source of virginica', 'authors': 'A. Unwin, K. Kleinman', 'venue': 'Significance, 2021', 'year': 2021, 'journal': 'Significance, 2021', 'DOI': '1740-9713.01589', 'URL': 'https://www.semanticscholar.org/paper/4599862ea877863669a6a8e63a3c707a787d5d7e', 'sha': None, 'corpus': None, 'arxiv': None, 'mag': None, 'acl': None, 'pmid': None, 'pmcid': None}, 'additional_info': {'summary': 'This is one of the earliest datasets used in the literature on classification methods and widely used in statistics and machine learning.  The data set contains 3 classes of 50 instances each, where each class refers to a type of iris plant.  One class is linearly separable from the other 2; the latter are not linearly separable from each other.\\n\\nPredicted attribute: class of iris plant.\\n\\nThis is an exceedingly simple domain.\\n\\nThis data differs from the data presented in Fishers article (identified by Steve Chadwick,  spchadwick@espeedaz.net ).  The 35th sample should be: 4.9,3.1,1.5,0.2,\"Iris-setosa\" where the error is in the fourth feature. The 38th sample: 4.9,3.6,1.4,0.1,\"Iris-setosa\" where the errors are in the second and third features.  ', 'purpose': 'N/A', 'funded_by': None, 'instances_represent': 'Each instance is a plant', 'recommended_data_splits': None, 'sensitive_data': None, 'preprocessing_description': None, 'variable_info': None, 'citation': None}}\n",
      "           name     role         type demographic  \\\n",
      "0  sepal length  Feature   Continuous        None   \n",
      "1   sepal width  Feature   Continuous        None   \n",
      "2  petal length  Feature   Continuous        None   \n",
      "3   petal width  Feature   Continuous        None   \n",
      "4         class   Target  Categorical        None   \n",
      "\n",
      "                                         description units missing_values  \n",
      "0                                               None    cm             no  \n",
      "1                                               None    cm             no  \n",
      "2                                               None    cm             no  \n",
      "3                                               None    cm             no  \n",
      "4  class of iris plant: Iris Setosa, Iris Versico...  None             no  \n"
     ]
    }
   ],
   "source": [
    "# fetch dataset \n",
    "iris = fetch_ucirepo(id=53)   \n",
    "# data (as pandas dataframes) \n",
    "\n",
    "# metadata \n",
    "print(iris.metadata) \n",
    "  \n",
    "# variable information \n",
    "print(iris.variables) \n"
   ]
  },
  {
   "cell_type": "code",
   "execution_count": 91,
   "id": "1f1e7b30",
   "metadata": {},
   "outputs": [
    {
     "data": {
      "application/vnd.microsoft.datawrangler.viewer.v0+json": {
       "columns": [
        {
         "name": "index",
         "rawType": "int64",
         "type": "integer"
        },
        {
         "name": "sepal length",
         "rawType": "float64",
         "type": "float"
        },
        {
         "name": "sepal width",
         "rawType": "float64",
         "type": "float"
        },
        {
         "name": "petal length",
         "rawType": "float64",
         "type": "float"
        },
        {
         "name": "petal width",
         "rawType": "float64",
         "type": "float"
        }
       ],
       "ref": "83011acc-08a3-4806-9e55-2de491d9b6dc",
       "rows": [
        [
         "0",
         "5.1",
         "3.5",
         "1.4",
         "0.2"
        ],
        [
         "1",
         "4.9",
         "3.0",
         "1.4",
         "0.2"
        ],
        [
         "2",
         "4.7",
         "3.2",
         "1.3",
         "0.2"
        ],
        [
         "3",
         "4.6",
         "3.1",
         "1.5",
         "0.2"
        ],
        [
         "4",
         "5.0",
         "3.6",
         "1.4",
         "0.2"
        ],
        [
         "5",
         "5.4",
         "3.9",
         "1.7",
         "0.4"
        ],
        [
         "6",
         "4.6",
         "3.4",
         "1.4",
         "0.3"
        ],
        [
         "7",
         "5.0",
         "3.4",
         "1.5",
         "0.2"
        ],
        [
         "8",
         "4.4",
         "2.9",
         "1.4",
         "0.2"
        ],
        [
         "9",
         "4.9",
         "3.1",
         "1.5",
         "0.1"
        ],
        [
         "10",
         "5.4",
         "3.7",
         "1.5",
         "0.2"
        ],
        [
         "11",
         "4.8",
         "3.4",
         "1.6",
         "0.2"
        ],
        [
         "12",
         "4.8",
         "3.0",
         "1.4",
         "0.1"
        ],
        [
         "13",
         "4.3",
         "3.0",
         "1.1",
         "0.1"
        ],
        [
         "14",
         "5.8",
         "4.0",
         "1.2",
         "0.2"
        ],
        [
         "15",
         "5.7",
         "4.4",
         "1.5",
         "0.4"
        ],
        [
         "16",
         "5.4",
         "3.9",
         "1.3",
         "0.4"
        ],
        [
         "17",
         "5.1",
         "3.5",
         "1.4",
         "0.3"
        ],
        [
         "18",
         "5.7",
         "3.8",
         "1.7",
         "0.3"
        ],
        [
         "19",
         "5.1",
         "3.8",
         "1.5",
         "0.3"
        ],
        [
         "20",
         "5.4",
         "3.4",
         "1.7",
         "0.2"
        ],
        [
         "21",
         "5.1",
         "3.7",
         "1.5",
         "0.4"
        ],
        [
         "22",
         "4.6",
         "3.6",
         "1.0",
         "0.2"
        ],
        [
         "23",
         "5.1",
         "3.3",
         "1.7",
         "0.5"
        ],
        [
         "24",
         "4.8",
         "3.4",
         "1.9",
         "0.2"
        ],
        [
         "25",
         "5.0",
         "3.0",
         "1.6",
         "0.2"
        ],
        [
         "26",
         "5.0",
         "3.4",
         "1.6",
         "0.4"
        ],
        [
         "27",
         "5.2",
         "3.5",
         "1.5",
         "0.2"
        ],
        [
         "28",
         "5.2",
         "3.4",
         "1.4",
         "0.2"
        ],
        [
         "29",
         "4.7",
         "3.2",
         "1.6",
         "0.2"
        ],
        [
         "30",
         "4.8",
         "3.1",
         "1.6",
         "0.2"
        ],
        [
         "31",
         "5.4",
         "3.4",
         "1.5",
         "0.4"
        ],
        [
         "32",
         "5.2",
         "4.1",
         "1.5",
         "0.1"
        ],
        [
         "33",
         "5.5",
         "4.2",
         "1.4",
         "0.2"
        ],
        [
         "34",
         "4.9",
         "3.1",
         "1.5",
         "0.1"
        ],
        [
         "35",
         "5.0",
         "3.2",
         "1.2",
         "0.2"
        ],
        [
         "36",
         "5.5",
         "3.5",
         "1.3",
         "0.2"
        ],
        [
         "37",
         "4.9",
         "3.1",
         "1.5",
         "0.1"
        ],
        [
         "38",
         "4.4",
         "3.0",
         "1.3",
         "0.2"
        ],
        [
         "39",
         "5.1",
         "3.4",
         "1.5",
         "0.2"
        ],
        [
         "40",
         "5.0",
         "3.5",
         "1.3",
         "0.3"
        ],
        [
         "41",
         "4.5",
         "2.3",
         "1.3",
         "0.3"
        ],
        [
         "42",
         "4.4",
         "3.2",
         "1.3",
         "0.2"
        ],
        [
         "43",
         "5.0",
         "3.5",
         "1.6",
         "0.6"
        ],
        [
         "44",
         "5.1",
         "3.8",
         "1.9",
         "0.4"
        ],
        [
         "45",
         "4.8",
         "3.0",
         "1.4",
         "0.3"
        ],
        [
         "46",
         "5.1",
         "3.8",
         "1.6",
         "0.2"
        ],
        [
         "47",
         "4.6",
         "3.2",
         "1.4",
         "0.2"
        ],
        [
         "48",
         "5.3",
         "3.7",
         "1.5",
         "0.2"
        ],
        [
         "49",
         "5.0",
         "3.3",
         "1.4",
         "0.2"
        ]
       ],
       "shape": {
        "columns": 4,
        "rows": 150
       }
      },
      "text/html": [
       "<div>\n",
       "<style scoped>\n",
       "    .dataframe tbody tr th:only-of-type {\n",
       "        vertical-align: middle;\n",
       "    }\n",
       "\n",
       "    .dataframe tbody tr th {\n",
       "        vertical-align: top;\n",
       "    }\n",
       "\n",
       "    .dataframe thead th {\n",
       "        text-align: right;\n",
       "    }\n",
       "</style>\n",
       "<table border=\"1\" class=\"dataframe\">\n",
       "  <thead>\n",
       "    <tr style=\"text-align: right;\">\n",
       "      <th></th>\n",
       "      <th>sepal length</th>\n",
       "      <th>sepal width</th>\n",
       "      <th>petal length</th>\n",
       "      <th>petal width</th>\n",
       "    </tr>\n",
       "  </thead>\n",
       "  <tbody>\n",
       "    <tr>\n",
       "      <th>0</th>\n",
       "      <td>5.1</td>\n",
       "      <td>3.5</td>\n",
       "      <td>1.4</td>\n",
       "      <td>0.2</td>\n",
       "    </tr>\n",
       "    <tr>\n",
       "      <th>1</th>\n",
       "      <td>4.9</td>\n",
       "      <td>3.0</td>\n",
       "      <td>1.4</td>\n",
       "      <td>0.2</td>\n",
       "    </tr>\n",
       "    <tr>\n",
       "      <th>2</th>\n",
       "      <td>4.7</td>\n",
       "      <td>3.2</td>\n",
       "      <td>1.3</td>\n",
       "      <td>0.2</td>\n",
       "    </tr>\n",
       "    <tr>\n",
       "      <th>3</th>\n",
       "      <td>4.6</td>\n",
       "      <td>3.1</td>\n",
       "      <td>1.5</td>\n",
       "      <td>0.2</td>\n",
       "    </tr>\n",
       "    <tr>\n",
       "      <th>4</th>\n",
       "      <td>5.0</td>\n",
       "      <td>3.6</td>\n",
       "      <td>1.4</td>\n",
       "      <td>0.2</td>\n",
       "    </tr>\n",
       "    <tr>\n",
       "      <th>...</th>\n",
       "      <td>...</td>\n",
       "      <td>...</td>\n",
       "      <td>...</td>\n",
       "      <td>...</td>\n",
       "    </tr>\n",
       "    <tr>\n",
       "      <th>145</th>\n",
       "      <td>6.7</td>\n",
       "      <td>3.0</td>\n",
       "      <td>5.2</td>\n",
       "      <td>2.3</td>\n",
       "    </tr>\n",
       "    <tr>\n",
       "      <th>146</th>\n",
       "      <td>6.3</td>\n",
       "      <td>2.5</td>\n",
       "      <td>5.0</td>\n",
       "      <td>1.9</td>\n",
       "    </tr>\n",
       "    <tr>\n",
       "      <th>147</th>\n",
       "      <td>6.5</td>\n",
       "      <td>3.0</td>\n",
       "      <td>5.2</td>\n",
       "      <td>2.0</td>\n",
       "    </tr>\n",
       "    <tr>\n",
       "      <th>148</th>\n",
       "      <td>6.2</td>\n",
       "      <td>3.4</td>\n",
       "      <td>5.4</td>\n",
       "      <td>2.3</td>\n",
       "    </tr>\n",
       "    <tr>\n",
       "      <th>149</th>\n",
       "      <td>5.9</td>\n",
       "      <td>3.0</td>\n",
       "      <td>5.1</td>\n",
       "      <td>1.8</td>\n",
       "    </tr>\n",
       "  </tbody>\n",
       "</table>\n",
       "<p>150 rows × 4 columns</p>\n",
       "</div>"
      ],
      "text/plain": [
       "     sepal length  sepal width  petal length  petal width\n",
       "0             5.1          3.5           1.4          0.2\n",
       "1             4.9          3.0           1.4          0.2\n",
       "2             4.7          3.2           1.3          0.2\n",
       "3             4.6          3.1           1.5          0.2\n",
       "4             5.0          3.6           1.4          0.2\n",
       "..            ...          ...           ...          ...\n",
       "145           6.7          3.0           5.2          2.3\n",
       "146           6.3          2.5           5.0          1.9\n",
       "147           6.5          3.0           5.2          2.0\n",
       "148           6.2          3.4           5.4          2.3\n",
       "149           5.9          3.0           5.1          1.8\n",
       "\n",
       "[150 rows x 4 columns]"
      ]
     },
     "execution_count": 91,
     "metadata": {},
     "output_type": "execute_result"
    }
   ],
   "source": [
    "iris.data.features "
   ]
  },
  {
   "cell_type": "code",
   "execution_count": 92,
   "id": "0ae9b178",
   "metadata": {},
   "outputs": [
    {
     "data": {
      "application/vnd.microsoft.datawrangler.viewer.v0+json": {
       "columns": [
        {
         "name": "index",
         "rawType": "int64",
         "type": "integer"
        },
        {
         "name": "class",
         "rawType": "object",
         "type": "string"
        }
       ],
       "ref": "dfc186c2-3c3e-4c01-bdc0-93578acc21a5",
       "rows": [
        [
         "0",
         "Iris-setosa"
        ],
        [
         "1",
         "Iris-setosa"
        ],
        [
         "2",
         "Iris-setosa"
        ],
        [
         "3",
         "Iris-setosa"
        ],
        [
         "4",
         "Iris-setosa"
        ],
        [
         "5",
         "Iris-setosa"
        ],
        [
         "6",
         "Iris-setosa"
        ],
        [
         "7",
         "Iris-setosa"
        ],
        [
         "8",
         "Iris-setosa"
        ],
        [
         "9",
         "Iris-setosa"
        ],
        [
         "10",
         "Iris-setosa"
        ],
        [
         "11",
         "Iris-setosa"
        ],
        [
         "12",
         "Iris-setosa"
        ],
        [
         "13",
         "Iris-setosa"
        ],
        [
         "14",
         "Iris-setosa"
        ],
        [
         "15",
         "Iris-setosa"
        ],
        [
         "16",
         "Iris-setosa"
        ],
        [
         "17",
         "Iris-setosa"
        ],
        [
         "18",
         "Iris-setosa"
        ],
        [
         "19",
         "Iris-setosa"
        ],
        [
         "20",
         "Iris-setosa"
        ],
        [
         "21",
         "Iris-setosa"
        ],
        [
         "22",
         "Iris-setosa"
        ],
        [
         "23",
         "Iris-setosa"
        ],
        [
         "24",
         "Iris-setosa"
        ],
        [
         "25",
         "Iris-setosa"
        ],
        [
         "26",
         "Iris-setosa"
        ],
        [
         "27",
         "Iris-setosa"
        ],
        [
         "28",
         "Iris-setosa"
        ],
        [
         "29",
         "Iris-setosa"
        ],
        [
         "30",
         "Iris-setosa"
        ],
        [
         "31",
         "Iris-setosa"
        ],
        [
         "32",
         "Iris-setosa"
        ],
        [
         "33",
         "Iris-setosa"
        ],
        [
         "34",
         "Iris-setosa"
        ],
        [
         "35",
         "Iris-setosa"
        ],
        [
         "36",
         "Iris-setosa"
        ],
        [
         "37",
         "Iris-setosa"
        ],
        [
         "38",
         "Iris-setosa"
        ],
        [
         "39",
         "Iris-setosa"
        ],
        [
         "40",
         "Iris-setosa"
        ],
        [
         "41",
         "Iris-setosa"
        ],
        [
         "42",
         "Iris-setosa"
        ],
        [
         "43",
         "Iris-setosa"
        ],
        [
         "44",
         "Iris-setosa"
        ],
        [
         "45",
         "Iris-setosa"
        ],
        [
         "46",
         "Iris-setosa"
        ],
        [
         "47",
         "Iris-setosa"
        ],
        [
         "48",
         "Iris-setosa"
        ],
        [
         "49",
         "Iris-setosa"
        ]
       ],
       "shape": {
        "columns": 1,
        "rows": 150
       }
      },
      "text/html": [
       "<div>\n",
       "<style scoped>\n",
       "    .dataframe tbody tr th:only-of-type {\n",
       "        vertical-align: middle;\n",
       "    }\n",
       "\n",
       "    .dataframe tbody tr th {\n",
       "        vertical-align: top;\n",
       "    }\n",
       "\n",
       "    .dataframe thead th {\n",
       "        text-align: right;\n",
       "    }\n",
       "</style>\n",
       "<table border=\"1\" class=\"dataframe\">\n",
       "  <thead>\n",
       "    <tr style=\"text-align: right;\">\n",
       "      <th></th>\n",
       "      <th>class</th>\n",
       "    </tr>\n",
       "  </thead>\n",
       "  <tbody>\n",
       "    <tr>\n",
       "      <th>0</th>\n",
       "      <td>Iris-setosa</td>\n",
       "    </tr>\n",
       "    <tr>\n",
       "      <th>1</th>\n",
       "      <td>Iris-setosa</td>\n",
       "    </tr>\n",
       "    <tr>\n",
       "      <th>2</th>\n",
       "      <td>Iris-setosa</td>\n",
       "    </tr>\n",
       "    <tr>\n",
       "      <th>3</th>\n",
       "      <td>Iris-setosa</td>\n",
       "    </tr>\n",
       "    <tr>\n",
       "      <th>4</th>\n",
       "      <td>Iris-setosa</td>\n",
       "    </tr>\n",
       "    <tr>\n",
       "      <th>...</th>\n",
       "      <td>...</td>\n",
       "    </tr>\n",
       "    <tr>\n",
       "      <th>145</th>\n",
       "      <td>Iris-virginica</td>\n",
       "    </tr>\n",
       "    <tr>\n",
       "      <th>146</th>\n",
       "      <td>Iris-virginica</td>\n",
       "    </tr>\n",
       "    <tr>\n",
       "      <th>147</th>\n",
       "      <td>Iris-virginica</td>\n",
       "    </tr>\n",
       "    <tr>\n",
       "      <th>148</th>\n",
       "      <td>Iris-virginica</td>\n",
       "    </tr>\n",
       "    <tr>\n",
       "      <th>149</th>\n",
       "      <td>Iris-virginica</td>\n",
       "    </tr>\n",
       "  </tbody>\n",
       "</table>\n",
       "<p>150 rows × 1 columns</p>\n",
       "</div>"
      ],
      "text/plain": [
       "              class\n",
       "0       Iris-setosa\n",
       "1       Iris-setosa\n",
       "2       Iris-setosa\n",
       "3       Iris-setosa\n",
       "4       Iris-setosa\n",
       "..              ...\n",
       "145  Iris-virginica\n",
       "146  Iris-virginica\n",
       "147  Iris-virginica\n",
       "148  Iris-virginica\n",
       "149  Iris-virginica\n",
       "\n",
       "[150 rows x 1 columns]"
      ]
     },
     "execution_count": 92,
     "metadata": {},
     "output_type": "execute_result"
    }
   ],
   "source": [
    "iris.data.targets"
   ]
  },
  {
   "cell_type": "code",
   "execution_count": 93,
   "id": "bbeb29a9",
   "metadata": {},
   "outputs": [
    {
     "data": {
      "application/vnd.microsoft.datawrangler.viewer.v0+json": {
       "columns": [
        {
         "name": "index",
         "rawType": "int64",
         "type": "integer"
        },
        {
         "name": "sepal length",
         "rawType": "float64",
         "type": "float"
        },
        {
         "name": "sepal width",
         "rawType": "float64",
         "type": "float"
        },
        {
         "name": "petal length",
         "rawType": "float64",
         "type": "float"
        },
        {
         "name": "petal width",
         "rawType": "float64",
         "type": "float"
        },
        {
         "name": "class",
         "rawType": "object",
         "type": "string"
        }
       ],
       "ref": "c4975676-2b97-4f17-8023-f36c968a5e21",
       "rows": [
        [
         "0",
         "5.1",
         "3.5",
         "1.4",
         "0.2",
         "Iris-setosa"
        ],
        [
         "1",
         "4.9",
         "3.0",
         "1.4",
         "0.2",
         "Iris-setosa"
        ],
        [
         "2",
         "4.7",
         "3.2",
         "1.3",
         "0.2",
         "Iris-setosa"
        ],
        [
         "3",
         "4.6",
         "3.1",
         "1.5",
         "0.2",
         "Iris-setosa"
        ],
        [
         "4",
         "5.0",
         "3.6",
         "1.4",
         "0.2",
         "Iris-setosa"
        ],
        [
         "5",
         "5.4",
         "3.9",
         "1.7",
         "0.4",
         "Iris-setosa"
        ],
        [
         "6",
         "4.6",
         "3.4",
         "1.4",
         "0.3",
         "Iris-setosa"
        ],
        [
         "7",
         "5.0",
         "3.4",
         "1.5",
         "0.2",
         "Iris-setosa"
        ],
        [
         "8",
         "4.4",
         "2.9",
         "1.4",
         "0.2",
         "Iris-setosa"
        ],
        [
         "9",
         "4.9",
         "3.1",
         "1.5",
         "0.1",
         "Iris-setosa"
        ],
        [
         "10",
         "5.4",
         "3.7",
         "1.5",
         "0.2",
         "Iris-setosa"
        ],
        [
         "11",
         "4.8",
         "3.4",
         "1.6",
         "0.2",
         "Iris-setosa"
        ],
        [
         "12",
         "4.8",
         "3.0",
         "1.4",
         "0.1",
         "Iris-setosa"
        ],
        [
         "13",
         "4.3",
         "3.0",
         "1.1",
         "0.1",
         "Iris-setosa"
        ],
        [
         "14",
         "5.8",
         "4.0",
         "1.2",
         "0.2",
         "Iris-setosa"
        ],
        [
         "15",
         "5.7",
         "4.4",
         "1.5",
         "0.4",
         "Iris-setosa"
        ],
        [
         "16",
         "5.4",
         "3.9",
         "1.3",
         "0.4",
         "Iris-setosa"
        ],
        [
         "17",
         "5.1",
         "3.5",
         "1.4",
         "0.3",
         "Iris-setosa"
        ],
        [
         "18",
         "5.7",
         "3.8",
         "1.7",
         "0.3",
         "Iris-setosa"
        ],
        [
         "19",
         "5.1",
         "3.8",
         "1.5",
         "0.3",
         "Iris-setosa"
        ],
        [
         "20",
         "5.4",
         "3.4",
         "1.7",
         "0.2",
         "Iris-setosa"
        ],
        [
         "21",
         "5.1",
         "3.7",
         "1.5",
         "0.4",
         "Iris-setosa"
        ],
        [
         "22",
         "4.6",
         "3.6",
         "1.0",
         "0.2",
         "Iris-setosa"
        ],
        [
         "23",
         "5.1",
         "3.3",
         "1.7",
         "0.5",
         "Iris-setosa"
        ],
        [
         "24",
         "4.8",
         "3.4",
         "1.9",
         "0.2",
         "Iris-setosa"
        ],
        [
         "25",
         "5.0",
         "3.0",
         "1.6",
         "0.2",
         "Iris-setosa"
        ],
        [
         "26",
         "5.0",
         "3.4",
         "1.6",
         "0.4",
         "Iris-setosa"
        ],
        [
         "27",
         "5.2",
         "3.5",
         "1.5",
         "0.2",
         "Iris-setosa"
        ],
        [
         "28",
         "5.2",
         "3.4",
         "1.4",
         "0.2",
         "Iris-setosa"
        ],
        [
         "29",
         "4.7",
         "3.2",
         "1.6",
         "0.2",
         "Iris-setosa"
        ],
        [
         "30",
         "4.8",
         "3.1",
         "1.6",
         "0.2",
         "Iris-setosa"
        ],
        [
         "31",
         "5.4",
         "3.4",
         "1.5",
         "0.4",
         "Iris-setosa"
        ],
        [
         "32",
         "5.2",
         "4.1",
         "1.5",
         "0.1",
         "Iris-setosa"
        ],
        [
         "33",
         "5.5",
         "4.2",
         "1.4",
         "0.2",
         "Iris-setosa"
        ],
        [
         "34",
         "4.9",
         "3.1",
         "1.5",
         "0.1",
         "Iris-setosa"
        ],
        [
         "35",
         "5.0",
         "3.2",
         "1.2",
         "0.2",
         "Iris-setosa"
        ],
        [
         "36",
         "5.5",
         "3.5",
         "1.3",
         "0.2",
         "Iris-setosa"
        ],
        [
         "37",
         "4.9",
         "3.1",
         "1.5",
         "0.1",
         "Iris-setosa"
        ],
        [
         "38",
         "4.4",
         "3.0",
         "1.3",
         "0.2",
         "Iris-setosa"
        ],
        [
         "39",
         "5.1",
         "3.4",
         "1.5",
         "0.2",
         "Iris-setosa"
        ],
        [
         "40",
         "5.0",
         "3.5",
         "1.3",
         "0.3",
         "Iris-setosa"
        ],
        [
         "41",
         "4.5",
         "2.3",
         "1.3",
         "0.3",
         "Iris-setosa"
        ],
        [
         "42",
         "4.4",
         "3.2",
         "1.3",
         "0.2",
         "Iris-setosa"
        ],
        [
         "43",
         "5.0",
         "3.5",
         "1.6",
         "0.6",
         "Iris-setosa"
        ],
        [
         "44",
         "5.1",
         "3.8",
         "1.9",
         "0.4",
         "Iris-setosa"
        ],
        [
         "45",
         "4.8",
         "3.0",
         "1.4",
         "0.3",
         "Iris-setosa"
        ],
        [
         "46",
         "5.1",
         "3.8",
         "1.6",
         "0.2",
         "Iris-setosa"
        ],
        [
         "47",
         "4.6",
         "3.2",
         "1.4",
         "0.2",
         "Iris-setosa"
        ],
        [
         "48",
         "5.3",
         "3.7",
         "1.5",
         "0.2",
         "Iris-setosa"
        ],
        [
         "49",
         "5.0",
         "3.3",
         "1.4",
         "0.2",
         "Iris-setosa"
        ]
       ],
       "shape": {
        "columns": 5,
        "rows": 150
       }
      },
      "text/html": [
       "<div>\n",
       "<style scoped>\n",
       "    .dataframe tbody tr th:only-of-type {\n",
       "        vertical-align: middle;\n",
       "    }\n",
       "\n",
       "    .dataframe tbody tr th {\n",
       "        vertical-align: top;\n",
       "    }\n",
       "\n",
       "    .dataframe thead th {\n",
       "        text-align: right;\n",
       "    }\n",
       "</style>\n",
       "<table border=\"1\" class=\"dataframe\">\n",
       "  <thead>\n",
       "    <tr style=\"text-align: right;\">\n",
       "      <th></th>\n",
       "      <th>sepal length</th>\n",
       "      <th>sepal width</th>\n",
       "      <th>petal length</th>\n",
       "      <th>petal width</th>\n",
       "      <th>class</th>\n",
       "    </tr>\n",
       "  </thead>\n",
       "  <tbody>\n",
       "    <tr>\n",
       "      <th>0</th>\n",
       "      <td>5.1</td>\n",
       "      <td>3.5</td>\n",
       "      <td>1.4</td>\n",
       "      <td>0.2</td>\n",
       "      <td>Iris-setosa</td>\n",
       "    </tr>\n",
       "    <tr>\n",
       "      <th>1</th>\n",
       "      <td>4.9</td>\n",
       "      <td>3.0</td>\n",
       "      <td>1.4</td>\n",
       "      <td>0.2</td>\n",
       "      <td>Iris-setosa</td>\n",
       "    </tr>\n",
       "    <tr>\n",
       "      <th>2</th>\n",
       "      <td>4.7</td>\n",
       "      <td>3.2</td>\n",
       "      <td>1.3</td>\n",
       "      <td>0.2</td>\n",
       "      <td>Iris-setosa</td>\n",
       "    </tr>\n",
       "    <tr>\n",
       "      <th>3</th>\n",
       "      <td>4.6</td>\n",
       "      <td>3.1</td>\n",
       "      <td>1.5</td>\n",
       "      <td>0.2</td>\n",
       "      <td>Iris-setosa</td>\n",
       "    </tr>\n",
       "    <tr>\n",
       "      <th>4</th>\n",
       "      <td>5.0</td>\n",
       "      <td>3.6</td>\n",
       "      <td>1.4</td>\n",
       "      <td>0.2</td>\n",
       "      <td>Iris-setosa</td>\n",
       "    </tr>\n",
       "    <tr>\n",
       "      <th>...</th>\n",
       "      <td>...</td>\n",
       "      <td>...</td>\n",
       "      <td>...</td>\n",
       "      <td>...</td>\n",
       "      <td>...</td>\n",
       "    </tr>\n",
       "    <tr>\n",
       "      <th>145</th>\n",
       "      <td>6.7</td>\n",
       "      <td>3.0</td>\n",
       "      <td>5.2</td>\n",
       "      <td>2.3</td>\n",
       "      <td>Iris-virginica</td>\n",
       "    </tr>\n",
       "    <tr>\n",
       "      <th>146</th>\n",
       "      <td>6.3</td>\n",
       "      <td>2.5</td>\n",
       "      <td>5.0</td>\n",
       "      <td>1.9</td>\n",
       "      <td>Iris-virginica</td>\n",
       "    </tr>\n",
       "    <tr>\n",
       "      <th>147</th>\n",
       "      <td>6.5</td>\n",
       "      <td>3.0</td>\n",
       "      <td>5.2</td>\n",
       "      <td>2.0</td>\n",
       "      <td>Iris-virginica</td>\n",
       "    </tr>\n",
       "    <tr>\n",
       "      <th>148</th>\n",
       "      <td>6.2</td>\n",
       "      <td>3.4</td>\n",
       "      <td>5.4</td>\n",
       "      <td>2.3</td>\n",
       "      <td>Iris-virginica</td>\n",
       "    </tr>\n",
       "    <tr>\n",
       "      <th>149</th>\n",
       "      <td>5.9</td>\n",
       "      <td>3.0</td>\n",
       "      <td>5.1</td>\n",
       "      <td>1.8</td>\n",
       "      <td>Iris-virginica</td>\n",
       "    </tr>\n",
       "  </tbody>\n",
       "</table>\n",
       "<p>150 rows × 5 columns</p>\n",
       "</div>"
      ],
      "text/plain": [
       "     sepal length  sepal width  petal length  petal width           class\n",
       "0             5.1          3.5           1.4          0.2     Iris-setosa\n",
       "1             4.9          3.0           1.4          0.2     Iris-setosa\n",
       "2             4.7          3.2           1.3          0.2     Iris-setosa\n",
       "3             4.6          3.1           1.5          0.2     Iris-setosa\n",
       "4             5.0          3.6           1.4          0.2     Iris-setosa\n",
       "..            ...          ...           ...          ...             ...\n",
       "145           6.7          3.0           5.2          2.3  Iris-virginica\n",
       "146           6.3          2.5           5.0          1.9  Iris-virginica\n",
       "147           6.5          3.0           5.2          2.0  Iris-virginica\n",
       "148           6.2          3.4           5.4          2.3  Iris-virginica\n",
       "149           5.9          3.0           5.1          1.8  Iris-virginica\n",
       "\n",
       "[150 rows x 5 columns]"
      ]
     },
     "execution_count": 93,
     "metadata": {},
     "output_type": "execute_result"
    }
   ],
   "source": [
    "iris.data.original"
   ]
  },
  {
   "cell_type": "code",
   "execution_count": 94,
   "id": "b2a946d0",
   "metadata": {},
   "outputs": [
    {
     "data": {
      "application/vnd.microsoft.datawrangler.viewer.v0+json": {
       "columns": [
        {
         "name": "class",
         "rawType": "object",
         "type": "string"
        },
        {
         "name": "0",
         "rawType": "int64",
         "type": "integer"
        }
       ],
       "ref": "13fd6705-e2bc-4fa2-9368-3d4752ea36a2",
       "rows": [
        [
         "Iris-setosa",
         "50"
        ],
        [
         "Iris-versicolor",
         "50"
        ],
        [
         "Iris-virginica",
         "50"
        ]
       ],
       "shape": {
        "columns": 1,
        "rows": 3
       }
      },
      "text/plain": [
       "class\n",
       "Iris-setosa        50\n",
       "Iris-versicolor    50\n",
       "Iris-virginica     50\n",
       "dtype: int64"
      ]
     },
     "execution_count": 94,
     "metadata": {},
     "output_type": "execute_result"
    }
   ],
   "source": [
    "iris.data.original.groupby('class').size()\n"
   ]
  },
  {
   "cell_type": "markdown",
   "id": "f37094c1",
   "metadata": {},
   "source": [
    "## Visualização da Data"
   ]
  },
  {
   "cell_type": "code",
   "execution_count": 95,
   "id": "d3093cd2",
   "metadata": {},
   "outputs": [
    {
     "data": {
      "image/png": "[encoded data removed]",
      "text/plain": [
       "<Figure size 640x480 with 1 Axes>"
      ]
     },
     "metadata": {},
     "output_type": "display_data"
    }
   ],
   "source": [
    "sns.scatterplot(x='sepal length', y='sepal width', hue='class', data=iris.data.original)\n",
    "plt.show()"
   ]
  },
  {
   "cell_type": "code",
   "execution_count": 96,
   "id": "2d7148cf",
   "metadata": {},
   "outputs": [
    {
     "data": {
      "image/png": "[encoded data removed]",
      "text/plain": [
       "<Figure size 640x480 with 1 Axes>"
      ]
     },
     "metadata": {},
     "output_type": "display_data"
    }
   ],
   "source": [
    "sns.scatterplot(x='petal length', y='petal width', hue='class', data=iris.data.original)\n",
    "plt.show()"
   ]
  },
  {
   "cell_type": "markdown",
   "id": "485b5398",
   "metadata": {},
   "source": [
    "### Preparação da Data"
   ]
  },
  {
   "cell_type": "code",
   "execution_count": 97,
   "id": "448eacb8",
   "metadata": {},
   "outputs": [],
   "source": [
    "X = iris.data.features \n",
    "y = iris.data.targets "
   ]
  },
  {
   "cell_type": "code",
   "execution_count": 98,
   "id": "195d41e2",
   "metadata": {},
   "outputs": [],
   "source": [
    "X = iris.data.features.to_numpy()\n",
    "y = iris.data.targets.to_numpy().ravel()"
   ]
  },
  {
   "cell_type": "code",
   "execution_count": 99,
   "id": "ca4c72de",
   "metadata": {},
   "outputs": [],
   "source": [
    "# encode labels \n",
    "# Iris-setosa correspond to 0, Iris-versicolor correspond to 1 and Iris-virginica correspond to 2.\n",
    "le = LabelEncoder()\n",
    "y = le.fit_transform(y)"
   ]
  },
  {
   "cell_type": "code",
   "execution_count": 100,
   "id": "3f04f2c0",
   "metadata": {},
   "outputs": [],
   "source": [
    "# Splitting dataset into training set and test set\n",
    "\n",
    "X_train, X_test, y_train, y_test = train_test_split(X, y, test_size=0.3, random_state=seed)\n"
   ]
  },
  {
   "cell_type": "markdown",
   "id": "59062770",
   "metadata": {},
   "source": [
    "### KNN"
   ]
  },
  {
   "cell_type": "code",
   "execution_count": 101,
   "id": "3fa9f332",
   "metadata": {},
   "outputs": [],
   "source": [
    "from sklearn.neighbors import KNeighborsClassifier\n",
    "from sklearn.metrics import confusion_matrix, accuracy_score\n",
    "from sklearn.model_selection import cross_val_score"
   ]
  },
  {
   "cell_type": "markdown",
   "id": "3113ceb1",
   "metadata": {},
   "source": [
    "#### Experimento: KNN com partições aleatórias 70/30\n",
    "\n",
    "- Repetimos 30 vezes para cada k em {3, 7, 11}\n",
    "- Em cada repetição: dividimos em treino/teste (70/30) com uma semente aleatória diferente\n",
    "- Métricas: Accuracy e F1 macro\n",
    "- Visualização: boxplot com whiskers para comparar distribuições das métricas por k"
   ]
  },
  {
   "cell_type": "markdown",
   "id": "4e69ce8f",
   "metadata": {},
   "source": [
    "KNN can be used for both classification and regression predictive problems. KNN falls in the supervised learning family of algorithms. Informally, this means that we are given a labelled dataset consiting of training observations  (x,y)\n",
    "  and would like to capture the relationship between  x\n",
    "  and  y\n",
    " . More formally, our goal is to learn a function  h:X→Y\n",
    "  so that given an unseen observation  x\n",
    " ,  h(x)\n",
    "  can confidently predict the corresponding output  y\n",
    " ."
   ]
  },
  {
   "cell_type": "code",
   "execution_count": 102,
   "id": "64be4f0b",
   "metadata": {},
   "outputs": [],
   "source": [
    "def euclidean_distance(point1, point2):\n",
    "    return np.sqrt(np.sum((np.array(point1) - np.array(point2))**2))"
   ]
  },
  {
   "cell_type": "code",
   "execution_count": 103,
   "id": "a9d6941f",
   "metadata": {},
   "outputs": [],
   "source": [
    "def knn_predict(training_data, training_labels, test_point, k):\n",
    "    distances = []\n",
    "    for i in range(len(training_data)):\n",
    "        dist = euclidean_distance(test_point, training_data[i])\n",
    "        distances.append((dist, training_labels[i]))\n",
    "    distances.sort(key=lambda x: x[0])\n",
    "    k_nearest_labels = [label for _, label in distances[:k]]\n",
    "    return Counter(k_nearest_labels).most_common(1)[0][0]"
   ]
  },
  {
   "cell_type": "markdown",
   "id": "a2ffc6a1",
   "metadata": {},
   "source": [
    "### Prediction"
   ]
  },
  {
   "cell_type": "code",
   "execution_count": 104,
   "id": "213dcfce",
   "metadata": {},
   "outputs": [],
   "source": [
    "k_values = [3, 7, 11]\n",
    "n_runs = 30\n",
    "results = {k: [] for k in k_values}"
   ]
  },
  {
   "cell_type": "code",
   "execution_count": 105,
   "id": "180a2d91",
   "metadata": {},
   "outputs": [
    {
     "name": "stderr",
     "output_type": "stream",
     "text": [
      "C:\\Users\\alexm\\AppData\\Local\\Temp\\ipykernel_23752\\3354352454.py:9: MatplotlibDeprecationWarning: The 'labels' parameter of boxplot() has been renamed 'tick_labels' since Matplotlib 3.9; support for the old name will be dropped in 3.11.\n",
      "  plt.boxplot([results[k] for k in k_values], labels=k_values, patch_artist=True)\n"
     ]
    },
    {
     "data": {
      "image/png": "[encoded data removed]",
      "text/plain": [
       "<Figure size 640x480 with 1 Axes>"
      ]
     },
     "metadata": {},
     "output_type": "display_data"
    }
   ],
   "source": [
    "for k in k_values:\n",
    "    for seed in range(n_runs):\n",
    "        X_train, X_test, y_train, y_test = train_test_split(X, y, test_size=0.3, random_state=seed)\n",
    "        predictions = [knn_predict(X_train, y_train, test_point, k) for test_point in X_test]\n",
    "        acc = accuracy_score(y_test, predictions)\n",
    "        results[k].append(acc)\n",
    "\n",
    "# Boxplot de comparação\n",
    "plt.boxplot([results[k] for k in k_values], labels=k_values, patch_artist=True)\n",
    "plt.title(\"Comparação de Accuracy para diferentes valores de k\")\n",
    "plt.xlabel(\"k\")\n",
    "plt.ylabel(\"Accuracy\")\n",
    "plt.grid(True)\n",
    "plt.show()"
   ]
  },
  {
   "cell_type": "code",
   "execution_count": 108,
   "id": "6bf92c15",
   "metadata": {},
   "outputs": [
    {
     "name": "stdout",
     "output_type": "stream",
     "text": [
      "\n",
      "Matriz de confusão para k = 3:\n",
      "[[16  0  0]\n",
      " [ 0 17  1]\n",
      " [ 0  0 11]]\n"
     ]
    },
    {
     "data": {
      "image/png": "[encoded data removed]",
      "text/plain": [
       "<Figure size 500x400 with 1 Axes>"
      ]
     },
     "metadata": {},
     "output_type": "display_data"
    }
   ],
   "source": [
    "cm = confusion_matrix(y_test, predictions)\n",
    "    \n",
    "print(f\"\\nMatriz de confusão para k = {k}:\\n{cm}\")\n",
    "\n",
    "plt.figure(figsize=(5, 4))\n",
    "sns.heatmap(cm, annot=True, fmt='d', cmap='Blues', cbar=False)\n",
    "plt.title(f\"Matriz de Confusão (k = {k})\")\n",
    "plt.xlabel(\"Classe Prevista\")\n",
    "plt.ylabel(\"Classe Verdadeira\")\n",
    "plt.show()"
   ]
  },
  {
   "cell_type": "markdown",
   "id": "b9f9a2da",
   "metadata": {},
   "source": [
    "Com K par: Se houver apenas duas classes (classificação binária), é possível que o número de vizinhos pertencentes a cada classe seja exatamente igual (exemplo: $K=4$, 2 vizinhos da Classe A e 2 vizinhos da Classe B). Isso resulta em um empate, e o algoritmo não consegue decidir a classe sem regras de desempate adicionais, o que complica a implementação e a interpretação.\n",
    "\n",
    "Com K ímpar: Ao usar um $K$ ímpar, o empate é impossível em problemas de classificação binária (duas classes), pois uma classe sempre terá pelo menos um voto a mais que a outra, garantindo uma maioria."
   ]
  },
  {
   "cell_type": "markdown",
   "id": "fd442325",
   "metadata": {},
   "source": [
    "## Exercício 3"
   ]
  },
  {
   "cell_type": "code",
   "execution_count": 110,
   "id": "2757b6b3",
   "metadata": {},
   "outputs": [],
   "source": [
    "X = pd.DataFrame(X, columns=iris.data.features.columns)"
   ]
  },
  {
   "cell_type": "code",
   "execution_count": 111,
   "id": "2c711414",
   "metadata": {},
   "outputs": [],
   "source": [
    "def discretize_column(col):\n",
    "    low, high = np.percentile(col, [33, 66])\n",
    "    categories = []\n",
    "    for val in col:\n",
    "        if val <= low:\n",
    "            categories.append(\"low\")\n",
    "        elif val <= high:\n",
    "            categories.append(\"medium\")\n",
    "        else:\n",
    "            categories.append(\"high\")\n",
    "    return categories\n",
    "\n",
    "X_disc = X.apply(discretize_column)"
   ]
  },
  {
   "cell_type": "markdown",
   "id": "a35ec865",
   "metadata": {},
   "source": [
    "### Naive Bayes (versão categórica)"
   ]
  },
  {
   "cell_type": "code",
   "execution_count": 112,
   "id": "28171711",
   "metadata": {},
   "outputs": [],
   "source": [
    "class NaiveBayesCategorical:\n",
    "    def fit(self, X, y):\n",
    "        self.classes = np.unique(y)\n",
    "        self.priors = {c: np.mean(y == c) for c in self.classes}\n",
    "        self.likelihoods = {}\n",
    "        \n",
    "        for c in self.classes:\n",
    "            subset = X[y == c]\n",
    "            self.likelihoods[c] = {}\n",
    "            for col in X.columns:\n",
    "                value_counts = subset[col].value_counts(normalize=True)\n",
    "                self.likelihoods[c][col] = value_counts.to_dict()\n",
    "    \n",
    "    def predict_one(self, x):\n",
    "        probs = {}\n",
    "        for c in self.classes:\n",
    "            prob = np.log(self.priors[c])\n",
    "            for col, val in x.items():\n",
    "                prob += np.log(self.likelihoods[c][col].get(val, 1e-6))  # suavização\n",
    "            probs[c] = prob\n",
    "        return max(probs, key=probs.get)\n",
    "    \n",
    "    def predict(self, X):\n",
    "        return np.array([self.predict_one(row) for _, row in X.iterrows()])"
   ]
  },
  {
   "cell_type": "markdown",
   "id": "f0a7d2b0",
   "metadata": {},
   "source": [
    "### Avaliação com 30 partições aleatórias (70%/30%)"
   ]
  },
  {
   "cell_type": "code",
   "execution_count": 113,
   "id": "b7638d78",
   "metadata": {},
   "outputs": [
    {
     "data": {
      "image/png": "[encoded data removed]",
      "text/plain": [
       "<Figure size 640x480 with 1 Axes>"
      ]
     },
     "metadata": {},
     "output_type": "display_data"
    }
   ],
   "source": [
    "n_runs = 30\n",
    "accuracies = []\n",
    "\n",
    "for seed in range(n_runs):\n",
    "    X_train, X_test, y_train, y_test = train_test_split(X_disc, y, test_size=0.3, random_state=seed)\n",
    "    \n",
    "    nb = NaiveBayesCategorical()\n",
    "    nb.fit(X_train, y_train)\n",
    "    y_pred = nb.predict(X_test)\n",
    "    \n",
    "    acc = accuracy_score(y_test, y_pred)\n",
    "    accuracies.append(acc)\n",
    "\n",
    "# Boxplot dos resultados\n",
    "plt.boxplot(accuracies, patch_artist=True)\n",
    "plt.title(\"Naive Bayes - Distribuição de Accuracy (30 partições)\")\n",
    "plt.ylabel(\"Accuracy\")\n",
    "plt.grid(True)\n",
    "plt.show()"
   ]
  },
  {
   "cell_type": "markdown",
   "id": "5ba5f5b0",
   "metadata": {},
   "source": [
    "### Matriz de confusão"
   ]
  },
  {
   "cell_type": "code",
   "execution_count": 114,
   "id": "8f54fa58",
   "metadata": {},
   "outputs": [
    {
     "data": {
      "image/png": "[encoded data removed]",
      "text/plain": [
       "<Figure size 500x400 with 1 Axes>"
      ]
     },
     "metadata": {},
     "output_type": "display_data"
    }
   ],
   "source": [
    "X_train, X_test, y_train, y_test = train_test_split(X_disc, y, test_size=0.3, random_state=0)\n",
    "nb = NaiveBayesCategorical()\n",
    "nb.fit(X_train, y_train)\n",
    "y_pred = nb.predict(X_test)\n",
    "\n",
    "cm = confusion_matrix(y_test, y_pred)\n",
    "plt.figure(figsize=(5,4))\n",
    "sns.heatmap(cm, annot=True, fmt='d', cmap='Greens', cbar=False)\n",
    "plt.title(\"Matriz de Confusão - Naive Bayes\")\n",
    "plt.xlabel(\"Classe Prevista\")\n",
    "plt.ylabel(\"Classe Verdadeira\")\n",
    "plt.show()"
   ]
  },
  {
   "cell_type": "markdown",
   "id": "00f02fb0",
   "metadata": {},
   "source": [
    "O k-NN consegue capturar melhor as fronteiras entre classes contínuas, como as medidas de pétalas e sépalas no dataset Iris.\n",
    "\n",
    "O Naive Bayes, ao assumir independência entre features e ao discretizar as variáveis, perde alguma informação de precisão.\n",
    "\n",
    "Contudo, o Naive Bayes é muito mais rápido e mais simples, sendo adequado para conjuntos de dados grandes ou de natureza simbólica.\n",
    "\n",
    "Conclusão\n",
    "\n",
    "Em termos de precisão, o k-NN supera o Naive Bayes no conjunto Iris,\n",
    "mas o Naive Bayes é mais eficiente computacionalmente e mais fácil de interpretar.\n",
    "Assim, a escolha depende do tipo de dados e da importância relativa entre velocidade e exatidão."
   ]
  },
  {
   "cell_type": "code",
   "execution_count": 115,
   "id": "be742bbf",
   "metadata": {},
   "outputs": [
    {
     "name": "stdout",
     "output_type": "stream",
     "text": [
      "[Feature: petal length (cm)]\n",
      "  If petal length (cm) == low:\n",
      "    Leaf: class=1\n",
      "  If petal length (cm) == medium:\n",
      "    Leaf: class=0\n",
      "  If petal length (cm) == high:\n",
      "    Leaf: class=0\n"
     ]
    }
   ],
   "source": [
    "import numpy as np\n",
    "import pandas as pd\n",
    "\n",
    "# Dados Iris\n",
    "from sklearn.datasets import load_iris\n",
    "iris = load_iris()\n",
    "X = pd.DataFrame(iris.data, columns=iris.feature_names)\n",
    "y = iris.target\n",
    "\n",
    "# Discretizar todas as features em low/medium/high\n",
    "def discretize_series(s):\n",
    "    low, high = np.percentile(s, [33, 66])\n",
    "    return pd.cut(s, bins=[-np.inf, low, high, np.inf], labels=[\"low\",\"medium\",\"high\"])\n",
    "\n",
    "X_disc = X.apply(discretize_series)\n",
    "\n",
    "# Transformar em binário: setosa = 1, não-setosa = 0\n",
    "y_bin = (y == 0).astype(int)\n",
    "\n",
    "# Função para calcular entropia\n",
    "def entropy(labels):\n",
    "    n = len(labels)\n",
    "    if n == 0:\n",
    "        return 0.0\n",
    "    p_plus = np.sum(labels == 1) / n\n",
    "    p_minus = 1 - p_plus\n",
    "    def ent(p):\n",
    "        return 0.0 if p == 0 else -p * np.log2(p)\n",
    "    return ent(p_plus) + ent(p_minus)\n",
    "\n",
    "# Função para calcular ganho de informação\n",
    "def information_gain(S_labels, X_subset, feature):\n",
    "    total_n = len(S_labels)\n",
    "    gain = entropy(S_labels)\n",
    "    for v in [\"low\",\"medium\",\"high\"]:\n",
    "        mask = (X_subset[feature] == v)\n",
    "        Sv_labels = S_labels[mask]\n",
    "        gain -= (len(Sv_labels)/total_n) * entropy(Sv_labels)\n",
    "    return gain\n",
    "\n",
    "# Classe simples para nós da árvore\n",
    "class Node:\n",
    "    def __init__(self, feature=None, children=None, label=None):\n",
    "        self.feature = feature      # feature usada neste nó\n",
    "        self.children = children    # dicionário valor_feature -> nó filho\n",
    "        self.label = label          # se folha, label = 0 ou 1\n",
    "\n",
    "# Função recursiva para construir árvore\n",
    "def build_tree(X, y, features):\n",
    "    # Se todos iguais, nó folha\n",
    "    if np.all(y == y[0]):\n",
    "        return Node(label=y[0])\n",
    "    # Se não há mais features, nó folha com classe majoritária\n",
    "    if len(features) == 0:\n",
    "        majority = 1 if np.sum(y) >= len(y)/2 else 0\n",
    "        return Node(label=majority)\n",
    "    \n",
    "    # Escolher feature com maior ganho\n",
    "    gains = {f: information_gain(y, X, f) for f in features}\n",
    "    best_feature = max(gains, key=gains.get)\n",
    "    \n",
    "    # Criar dicionário para os filhos\n",
    "    children = {}\n",
    "    for v in [\"low\",\"medium\",\"high\"]:\n",
    "        mask = (X[best_feature] == v)\n",
    "        if mask.sum() == 0:\n",
    "            # Nenhum exemplo: nó folha com classe majoritária\n",
    "            majority = 1 if np.sum(y) >= len(y)/2 else 0\n",
    "            children[v] = Node(label=majority)\n",
    "        else:\n",
    "            X_sub = X[mask].copy()\n",
    "            y_sub = y[mask].copy()\n",
    "            # Remover feature usada\n",
    "            features_sub = [f for f in features if f != best_feature]\n",
    "            children[v] = build_tree(X_sub, y_sub, features_sub)\n",
    "    \n",
    "    return Node(feature=best_feature, children=children)\n",
    "\n",
    "# Construir a árvore\n",
    "features_list = X_disc.columns.tolist()\n",
    "tree_root = build_tree(X_disc, y_bin, features_list)\n",
    "\n",
    "# Função para imprimir árvore de forma legível\n",
    "def print_tree(node, indent=\"\"):\n",
    "    if node.label is not None:\n",
    "        print(indent + f\"Leaf: class={node.label}\")\n",
    "    else:\n",
    "        print(indent + f\"[Feature: {node.feature}]\")\n",
    "        for val, child in node.children.items():\n",
    "            print(indent + f\"  If {node.feature} == {val}:\")\n",
    "            print_tree(child, indent + \"    \")\n",
    "\n",
    "# Mostrar árvore\n",
    "print_tree(tree_root)\n"
   ]
  }
 ],
 "metadata": {
  "kernelspec": {
   "display_name": "Python 3",
   "language": "python",
   "name": "python3"
  },
  "language_info": {
   "codemirror_mode": {
    "name": "ipython",
    "version": 3
   },
   "file_extension": ".py",
   "mimetype": "text/x-python",
   "name": "python",
   "nbconvert_exporter": "python",
   "pygments_lexer": "ipython3",
   "version": "3.10.11"
  }
 },
 "nbformat": 4,
 "nbformat_minor": 5
}
